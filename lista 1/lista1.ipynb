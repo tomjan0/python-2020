{
  "nbformat": 4,
  "nbformat_minor": 0,
  "metadata": {
    "kernelspec": {
      "display_name": "Python 3",
      "language": "python",
      "name": "python3"
    },
    "language_info": {
      "codemirror_mode": {
        "name": "ipython",
        "version": 3
      },
      "file_extension": ".py",
      "mimetype": "text/x-python",
      "name": "python",
      "nbconvert_exporter": "python",
      "pygments_lexer": "ipython3",
      "version": "3.7.4-final"
    },
    "colab": {
      "name": "note.ipynb",
      "provenance": [],
      "collapsed_sections": []
    }
  },
  "cells": [
    {
      "cell_type": "markdown",
      "metadata": {
        "colab_type": "text",
        "id": "4uZlYYNlmOX6"
      },
      "source": [
        "# Lista 1\n",
        "\n",
        "## Kurs wybranego języka programowania (Python)\n",
        "\n",
        "Wszystkie rozwiązania proszę wpisać w tym notatniku poniżej treści zadań. Zadania z `*` to zadania dodatkowe."
      ]
    },
    {
      "cell_type": "markdown",
      "metadata": {
        "colab_type": "text",
        "id": "egLurTSYmOX_"
      },
      "source": [
        "## Zadanie 1 _(5pt)_\n",
        "\n",
        "Napisz funkcję, który wyświetla trójkąt Pascala o zadanej wysokości\n",
        "```\n",
        "                1\n",
        "              1   1\n",
        "            1   2   1\n",
        "          1   3   3   1\n",
        "        1   4   6   4   1\n",
        "      .....................\n",
        "```"
      ]
    },
    {
      "cell_type": "code",
      "execution_count": 41,
      "metadata": {},
      "outputs": [
        {
          "name": "stdout",
          "output_type": "stream",
          "text": "\n                     1\n                   1   1\n                 1   2   1\n               1   3   3   1\n             1   4   6   4   1\n           1   5  10  10   5   1\n         1   6  15  20  15   6   1\n       1   7  21  35  35  21   7   1\n     1   8  28  56  70  56  28   8   1\n   1   9  36  84 126 126  84  36   9   1\n"
        }
      ],
      "source": [
        "def pascal_triangle(n):\n",
        "  triangle = [[1]]\n",
        "  for i in range(1,n):\n",
        "    triangle.append([1])\n",
        "    for j in range(1,i):\n",
        "      triangle[i].append(triangle[i-1][j-1] + triangle[i-1][j])\n",
        "    triangle[i].append(1)\n",
        "  for i in range(n):\n",
        "    print('  ' *(n-i-1), end='')\n",
        "    for j in range(i+1):\n",
        "      x = '%4s' % triangle[i][j]\n",
        "      print(x, end='')\n",
        "    print()\n",
        "print()\n",
        "pascal_triangle(10)      "
      ]
    },
    {
      "cell_type": "markdown",
      "metadata": {
        "colab_type": "text",
        "id": "vPlb-afdmOYI"
      },
      "source": [
        "## Zadanie 2 _(5pt)_\n",
        "\n",
        "Napisz funkcję `primes(n)` zwracająca listę liczb pierwszych nie większych niż $n$ np.\n",
        "\n",
        "```\n",
        "In [ ]:   primes(6)\n",
        "Out [ ]: [2, 3, 5]\n",
        "```"
      ]
    },
    {
      "cell_type": "code",
      "execution_count": 45,
      "metadata": {},
      "outputs": [],
      "source": [
        "def primes(n):\n",
        "  res = []\n",
        "  if(n>=2):\n",
        "    res.append(2)\n",
        "  for i in range(3, n+1, 2):\n",
        "    for j in res:\n",
        "      if(i % j == 0):\n",
        "        break\n",
        "    else:\n",
        "      res.append(i)\n",
        "  return(res)"
      ]
    },
    {
      "cell_type": "markdown",
      "metadata": {
        "colab_type": "text",
        "id": "vHjJ4tdEmOYR"
      },
      "source": [
        "## Zadanie 3 _(5pt)_\n",
        "\n",
        "Napisz funkcje, która usuwa wszystkie powtarzające się elementy z listy (tak, że każdy element występuje tylko raz) np. z listy `[1,1,2,2,2,3,3,5,5,5,4,4,4,0]` dostajemy `[1,2,3,5,4,0]`."
      ]
    },
    {
      "cell_type": "code",
      "execution_count": 46,
      "metadata": {},
      "outputs": [
        {
          "data": {
            "text/plain": "[1, 2, 3, 5, 4, 0]"
          },
          "execution_count": 46,
          "metadata": {},
          "output_type": "execute_result"
        }
      ],
      "source": [
        "def flat(arr):\n",
        "  # return list(set(array))\n",
        "  res = []\n",
        "  for num in arr:\n",
        "    if(num not in res):\n",
        "      res.append(num)\n",
        "  return res\n",
        "  \n",
        "array = [1,1,2,2,2,3,3,5,5,5,4,4,4,0]\n",
        "flat(array)\n",
        "# %timeit list(set(array))"
      ]
    },
    {
      "cell_type": "markdown",
      "metadata": {
        "colab_type": "text",
        "id": "EKj9HBgGmOYZ"
      },
      "source": [
        "## Zadanie 4 _(10pt)_\n",
        "\n",
        "Napisz funkcję `prime_factors(n)`, która rozkłada $n$ na czynniki pierwsze i jako wynik wraca listę par $[(p_1,\\alpha_1), (p_2,\\alpha_2), \\ldots, (p_k, \\alpha_k)]$ taką, że $p_1^{\\alpha_1}p_2^{\\alpha_2}\\ldots p_k^{\\alpha_k}$.\n"
      ]
    },
    {
      "cell_type": "code",
      "execution_count": 47,
      "metadata": {},
      "outputs": [
        {
          "name": "stdout",
          "output_type": "stream",
          "text": "[(2, 1), (23, 1), (139, 1), (163, 1)]\n"
        }
      ],
      "source": [
        "def prime_factors(n):\n",
        "  factors = []\n",
        "  count = 0\n",
        "  while(n % 2 == 0):\n",
        "    count += 1\n",
        "    n = n/2\n",
        "  if(count>0):\n",
        "    factors.append((2, count))\n",
        "  divider = 3\n",
        "  while(n>1):\n",
        "    count = 0\n",
        "    while(n % divider == 0):\n",
        "      count += 1\n",
        "      n = n/divider\n",
        "    if(count>0):\n",
        "      factors.append((divider, count))\n",
        "    divider += 2\n",
        "  return factors\n",
        "\n",
        "print(prime_factors(1042222))\n",
        "\n",
        "\n"
      ]
    },
    {
      "cell_type": "markdown",
      "metadata": {
        "colab_type": "text",
        "id": "ZvOeruw1mOYi"
      },
      "source": [
        "## Zadanie 5 _(10pt)_\n",
        "\n",
        "Napisz funkcję `fraczero(n)` liczącą silnie $n!$ dla $n$ od $0$ do $10000$ oraz jako wynik wraca liczbę zer na końcu $n!$."
      ]
    },
    {
      "cell_type": "code",
      "execution_count": 48,
      "metadata": {},
      "outputs": [
        {
          "data": {
            "text/plain": "277"
          },
          "execution_count": 48,
          "metadata": {},
          "output_type": "execute_result"
        }
      ],
      "source": [
        "def fraczero(n):\n",
        "  # fact = 1\n",
        "  # zeros = 0;\n",
        "  # for i in range(1,n+1):\n",
        "  #   fact = fact * i\n",
        "  # print(fact)\n",
        "  # while(fact % 10 == 0):\n",
        "  #   fact = fact/10\n",
        "  #   zeros =+ 1\n",
        "  zeros = 0\n",
        "  while(n>=5):\n",
        "    n = n//5;\n",
        "    zeros += n;\n",
        "  return zeros\n",
        "\n",
        "\n",
        "# fraczero(5)\n",
        "fraczero(1123)"
      ]
    },
    {
      "cell_type": "markdown",
      "metadata": {
        "colab_type": "text",
        "id": "-G4jf6gYmOYr"
      },
      "source": [
        "## Zadanie 6 _(10pt)_\n",
        "\n",
        "Napisz program, który generuje liczbę $20$ liczb losowych (rozkład jednostajny) od $1$ do $100$\n",
        "* Wyświetl listę wygenerowanych liczb\n",
        "* Wyświetl średnią\n",
        "* Wyświetl największą i najmniejszą wartość\n",
        "* Wyświetl drugą największą i drugą najmniejszą wartość na liście\n",
        "* Wyświetl ile jest liczb parzystych na liście\n",
        " "
      ]
    },
    {
      "cell_type": "code",
      "execution_count": 0,
      "metadata": {
        "colab": {
          "base_uri": "https://localhost:8080/",
          "height": 102
        },
        "colab_type": "code",
        "id": "BgdEBT9zmOYv",
        "outputId": "2bdd83d9-2d61-48bc-de7d-d0355da8eb61"
      },
      "outputs": [
        {
          "name": "stdout",
          "output_type": "stream",
          "text": [
            "[20, 15, 20, 5, 9, 8, 9, 18, 3, 16, 17, 6, 1, 5, 14, 2, 4, 3, 10, 18]\n",
            "Average:  10.15\n",
            "Max:  20  Min:  1\n",
            "Following max:  18  Following min:  2\n",
            "No of even elements:  11\n"
          ]
        }
      ],
      "source": [
        "import random\n",
        "\n",
        "randoms = []\n",
        "max = 0\n",
        "max2 = 0\n",
        "min = 100\n",
        "min2 = 0\n",
        "sum = 0\n",
        "evens = 0\n",
        "for i in range(20):\n",
        "  x = random.randint(1,20)\n",
        "  randoms.append(x)\n",
        "  sum += x\n",
        "  if(x % 2 == 0):\n",
        "    evens += 1\n",
        "  if(x>max):\n",
        "    max2 = max\n",
        "    max = x\n",
        "  elif(x>max2 and x!=max):\n",
        "    max2 = x\n",
        "  elif (x<min):\n",
        "    min2 = min\n",
        "    min = x\n",
        "  elif(x<min2 and x!=min):\n",
        "    min2 = x\n",
        "\n",
        "print(randoms)\n",
        "print('Average: ', sum/20)\n",
        "print('Max: ', max, ' Min: ', min)\n",
        "print('Following max: ', max2, ' Following min: ', min2)\n",
        "print('No. of even elements: ', evens)\n",
        "\n",
        "\n"
      ]
    },
    {
      "cell_type": "markdown",
      "metadata": {
        "colab_type": "text",
        "id": "P_bRtE-2mOY1"
      },
      "source": [
        "## Zadanie 7 _(10pt)_\n",
        "\n",
        "Załóżmy, że mamy następującą listę: `L = ['aababacaa', 'cabaabcca', 'aaabbcbacb', 'acababbaab', ...]` wygenerowaną losowo tzn. lista zawiera losowe ciągi znaków o zadanej długości z liter `'a'`, `'b'` i `'c'`. Takie wzorce występują w wielu miejscach np. sekwencje DNA. Użytkownik zawiera swój (wzorzec) ciąg znaków z literami i pustymi miejscami oznaczonymi przez `'*'` np. `\"a**a******\"`. Wykorzystaj słownik z kluczami zawierającymi indeksy znaków różnych od `'*'` i wartościami liter z wzorca. Napisz program, który znajduje wszystkie sekwencje z listy, które pasuje do podanego wzorca."
      ]
    },
    {
      "cell_type": "code",
      "execution_count": 0,
      "metadata": {
        "colab": {},
        "colab_type": "code",
        "id": "ebZ3f0hgmOY3"
      },
      "outputs": [],
      "source": []
    },
    {
      "cell_type": "markdown",
      "metadata": {
        "colab_type": "text",
        "id": "9hHe-Im5mOY_"
      },
      "source": [
        "## Zadanie 8 _(10pt)_\n",
        "\n",
        "Napisz program, który konwerteruje liczby rzymskie na liczby arabskie. Do zapisu liczb rzymskich używa\n",
        "się 7 liter: `I=1`, `V=5`, `X=10`, `L=50`, `C=100`, `D=500`, `M=1000`. Opis algorytmu zamiany z i na system rzymski można znaleźć np. [tutaj](http://www.algorytm.org/algorytmy-arytmetyczne/zamiana-z-i-na-system-rzymski.html)"
      ]
    },
    {
      "cell_type": "code",
      "execution_count": 69,
      "metadata": {},
      "outputs": [
        {
          "data": {
            "text/plain": "2637"
          },
          "execution_count": 69,
          "metadata": {},
          "output_type": "execute_result"
        }
      ],
      "source": [
        "def romanToarabic(roman):\n",
        "  romanValues = {'I': 1, 'V': 5, 'X': 10, 'L': 50, 'C': 100, 'D': 500, 'M': 1000}\n",
        "  prev = 0\n",
        "  arabic = 0\n",
        "  count = 0\n",
        "  for letter in reversed(roman):\n",
        "    curr = romanValues[letter]\n",
        "    if (curr < prev):\n",
        "      if(prev == 5*curr or prev == 10*curr):\n",
        "        arabic += -curr\n",
        "      else:\n",
        "        arabic = 'Wrong format'\n",
        "        break\n",
        "    else:\n",
        "      if(prev == curr):\n",
        "        count += 1\n",
        "        if (count > 3):\n",
        "          arabic = 'Wrong format'\n",
        "          break\n",
        "        elif (count > 0 and curr in [5,50,500]):\n",
        "          arabic = 'Wrong format'\n",
        "          break\n",
        "      else:\n",
        "        count = 0\n",
        "      arabic += curr\n",
        "    prev = curr\n",
        "  return arabic\n",
        "\n",
        "romanToarabic('MMDCXXXVII')\n"
      ]
    },
    {
      "cell_type": "markdown",
      "metadata": {
        "colab_type": "text",
        "id": "bUIXgLfPmOZJ"
      },
      "source": [
        "## Zadanie 9* _(5pt)_\n",
        "\n",
        "Napisz program kalkulator, który pobiera wprowadzone wartości oraz funkcje z klawiatury następnie podaje wynik. W przypadku błędnych danych zgłasza błąd.\n",
        "\n",
        "Przykładowa sesja:\n",
        "```\n",
        "    Kalkulator\n",
        "    [1]: 2+5*10\n",
        "        52\n",
        "    [2]: sin(0.5)+cos(0.3)\n",
        "        1.434762027729809\n",
        "    [3]: 2^100\n",
        "        1267650600228229401496703205376\n",
        "```\n",
        "\n",
        "Przykładowy kod pobierania danych od użytkownika:\n",
        "\n",
        "```\n",
        "    x = input('Podaj x = ')\n",
        "```"
      ]
    },
    {
      "cell_type": "code",
      "execution_count": 70,
      "metadata": {},
      "outputs": [
        {
          "name": "stdout",
          "output_type": "stream",
          "text": "Answer: 4.0\n"
        }
      ],
      "source": [
        "\n",
        "from operator import pow, truediv, mul, add, sub  \n",
        "\n",
        "operators = {\n",
        "  '+': add,\n",
        "  '-': sub,\n",
        "  '*': mul,\n",
        "  '/': truediv\n",
        "}\n",
        "\n",
        "def calculate(s):\n",
        "    if s.isdigit():\n",
        "        return float(s)\n",
        "    for c in operators.keys():\n",
        "        left, operator, right = s.partition(c)\n",
        "        if operator in operators:\n",
        "            return operators[operator](calculate(left), calculate(right))\n",
        "\n",
        "calc = input(\"Type calculation:\\n\")\n",
        "print(\"Answer: \" + str(calculate(calc)))"
      ]
    },
    {
      "cell_type": "markdown",
      "metadata": {
        "colab_type": "text",
        "id": "QikibG26mOZS"
      },
      "source": [
        "\n",
        "## Zadanie 10* _(10pt)_\n",
        "\n",
        "Napisz program, który rysuje na ekranie w trybie znakowym wykres funkcji zmiennej $x$. Wskazówka: utwórz  ,,tablicę dwuwymiarową'' o wymiarach 80x24 i narysuj wykres w tej tablicy. Następnie wynik wyświetl na ekranie.\n",
        "\n",
        "```\n",
        "        Podaj funkcje f(x) = sin(x)\n",
        "        Podaj początek przedziału a = -pi\n",
        "        Podaj koniec przedziału b = pi\n",
        "                                                |\n",
        "                                                |\n",
        "                                                |              ***********\n",
        "                                                |           ***           ***\n",
        "                                                |         **                 **\n",
        "                                                |        *                     *\n",
        "                                                |      **                       **\n",
        "                                                |     *                           *\n",
        "                                                |   **                             **\n",
        "                                                |  *                                 *\n",
        "                                                | *                                   *\n",
        "                                                |*                                     *\n",
        "        ----------------------------------------|---------------------------------------\n",
        "          *                                   * |\n",
        "           *                                 *  |\n",
        "            **                             **   |\n",
        "              *                           *     |\n",
        "               **                       **      |\n",
        "                 *                     *        |\n",
        "                  **                 **         |\n",
        "                    ***           ***           |\n",
        "                       ***** *****              |\n",
        "                            *                   |\n",
        "                                                |\n",
        "```"
      ]
    },
    {
      "cell_type": "code",
      "execution_count": 79,
      "metadata": {},
      "outputs": [
        {
          "name": "stdout",
          "output_type": "stream",
          "text": "\n-------------------------------------------------------------------------------- 0.9998023297700656\n                                       |                *******                 \n                                       |             ***       ***              \n                                       |           **             **            \n                                       |          *                 **          \n                                       |        **                    *         \n                                       |       *                       **       \n                                       |      *                          *      \n                                       |    **                            *     \n                                       |   *                               *    \n                                       |  *                                 *   \n                                       | *                                   *  \n                                       |*                                     **\n---------------------------------------|----------------------------------------\n  *                                   *|                                        \n   *                                 * |                                        \n    *                               *  |                                        \n     *                            **   |                                        \n      *                          *     |                                        \n       **                       *      |                                        \n         *                    **       |                                        \n          **                 *         |                                        \n            **             **          |                                        \n              ***       ***            |                                        \n                 *******               |                                        \n-------------------------------------------------------------------------------- -0.9998023297700656\n"
        }
      ],
      "source": [
        "from math import *\n",
        "def draw():\n",
        "  #precisions\n",
        "  precX = 80\n",
        "  precY = 24\n",
        "  #init plot array\n",
        "  plot = []\n",
        "  for i in range(precX):\n",
        "    plot.append([])\n",
        "    for j in range(precY):\n",
        "      plot[i].append(' ')\n",
        "  precY = precY - 1\n",
        "  fun = input('Podaj funkcję f(x) = ')\n",
        "  a = eval(input('Podaj początek przedziału a = '))\n",
        "  b = eval(input('Podaj koniec przedziału b = '))\n",
        "  print()\n",
        "  if (a>b):\n",
        "    a,b = b,a\n",
        "  #calc step\n",
        "  step = (b-a)/(precX-1)\n",
        "  curr = a\n",
        "  vals = []\n",
        "  #calc values\n",
        "  for i in range (precX):\n",
        "    val = eval(fun.replace('x', str(curr)))\n",
        "    vals.append(val)\n",
        "    curr += step\n",
        "\n",
        "  #Scale plot\n",
        "  maxVal = max(vals)\n",
        "  minVal = min(vals)\n",
        "  shift = -minVal\n",
        "  scale = precY/(maxVal - minVal)\n",
        "  for i in range(precX):\n",
        "    val = vals[i]\n",
        "    newVal =  precY - (round((vals[i] + shift) * scale)  )\n",
        "    plot[i][int(newVal)] = '*'\n",
        "  \n",
        "  #Draw axis\n",
        "  if(copysign(maxVal,minVal) != maxVal):\n",
        "    zeroY = floor((-minVal)*(precY+1)/(maxVal-minVal))\n",
        "    for i in range(len(plot)):\n",
        "      plot[i][zeroY] = '-'\n",
        "  if(copysign(a,b) != a):\n",
        "    zeroX = floor((-a)*(precX - 1)/(b-a))\n",
        "    for i in range(len(plot[0])):\n",
        "      plot[zeroX][i] = '|'\n",
        "\n",
        "  #Draw plot\n",
        "  print('-'*precX,maxVal )\n",
        "  for idy in range(len(plot[0])):\n",
        "    for idx in range(len(plot)):\n",
        "      print(plot[idx][idy], end='')\n",
        "    print()\n",
        "  print('-'*precX,minVal )\n",
        "  \n",
        "draw()\n"
      ]
    },
    {
      "cell_type": "code",
      "execution_count": null,
      "metadata": {},
      "outputs": [],
      "source": []
    }
  ]
}